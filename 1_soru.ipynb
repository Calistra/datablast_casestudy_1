{
 "cells": [
  {
   "cell_type": "code",
   "execution_count": 42,
   "metadata": {},
   "outputs": [],
   "source": [
    "import pandas as pd\n",
    "from forex_python.converter import CurrencyRates\n",
    "import requests\n",
    "rate=CurrencyRates()\n",
    "df_date = pd.DataFrame(pd.date_range(start='2021-1-1', end='2021-1-10'), columns=['DateTime'])\n",
    "df_data=pd.DataFrame(columns=[\"date,name,value\"])\n",
    "\n",
    "for day in df_date[\"DateTime\"]:\n",
    "        r=rate.get_rates('USD',day)\n",
    "        day=str(day)\n",
    "        day=day[0:10]\n",
    "        for key in r:\n",
    "                row_str=str(day+',\"'+str(key)+'\",'+str(r[key]))\n",
    "                temp_df=pd.DataFrame([row_str],columns=[\"date,name,value\"])     \n",
    "                df_data=df_data.append(temp_df)\n",
    "df_data.to_csv(\"export.csv\",index=False)"
   ]
  }
 ],
 "metadata": {
  "kernelspec": {
   "display_name": "Python 3.7.4 ('base')",
   "language": "python",
   "name": "python3"
  },
  "language_info": {
   "codemirror_mode": {
    "name": "ipython",
    "version": 3
   },
   "file_extension": ".py",
   "mimetype": "text/x-python",
   "name": "python",
   "nbconvert_exporter": "python",
   "pygments_lexer": "ipython3",
   "version": "3.7.4"
  },
  "orig_nbformat": 4,
  "vscode": {
   "interpreter": {
    "hash": "ad2bdc8ecc057115af97d19610ffacc2b4e99fae6737bb82f5d7fb13d2f2c186"
   }
  }
 },
 "nbformat": 4,
 "nbformat_minor": 2
}
